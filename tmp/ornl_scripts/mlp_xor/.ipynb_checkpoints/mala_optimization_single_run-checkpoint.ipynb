{
 "cells": [
  {
   "cell_type": "code",
   "execution_count": 1,
   "metadata": {},
   "outputs": [],
   "source": [
    "## Import packages\n",
    "\n",
    "import os\n",
    "import csv\n",
    "\n",
    "import numpy as np\n",
    "\n",
    "import torch\n",
    "import torch.nn.functional as F\n",
    "import torch.optim as optim\n",
    "import torch.nn as nn\n",
    "\n",
    "from torch.utils.data import DataLoader\n",
    "from torch.distributions import Normal\n",
    "\n",
    "from eeyore.data import XOR\n",
    "from eeyore.models import mlp\n",
    "from eeyore.kernels import NormalTransitionKernel\n",
    "from eeyore.mcmc import MALA\n",
    "\n",
    "from timeit import default_timer as timer\n",
    "from datetime import timedelta\n",
    "\n",
    "import matplotlib.pyplot as plt\n",
    "import seaborn as sns"
   ]
  },
  {
   "cell_type": "code",
   "execution_count": 2,
   "metadata": {},
   "outputs": [
    {
     "data": {
      "text/plain": [
       "(tensor([[0., 0.],\n",
       "         [0., 1.],\n",
       "         [1., 0.],\n",
       "         [1., 1.]]), tensor([[0.],\n",
       "         [1.],\n",
       "         [1.],\n",
       "         [0.]]))"
      ]
     },
     "execution_count": 2,
     "metadata": {},
     "output_type": "execute_result"
    }
   ],
   "source": [
    "## Load XOR data\n",
    "\n",
    "xor = XOR(dtype=torch.float)\n",
    "dataloader = DataLoader(xor, batch_size=4)\n",
    "\n",
    "data, labels = next(iter(dataloader))\n",
    "data, labels"
   ]
  },
  {
   "cell_type": "code",
   "execution_count": 3,
   "metadata": {},
   "outputs": [],
   "source": [
    "## Setup MLP model\n",
    "\n",
    "hparams = mlp.Hyperparameters(dims=[2, 2, 1], bias=[True, True], activations=[torch.sigmoid, torch.sigmoid])\n",
    "model = mlp.MLP(hparams=hparams, dtype=torch.float)\n",
    "model.prior = Normal(\n",
    "    torch.zeros(model.num_params(), dtype=model.dtype),\n",
    "    np.sqrt(10)*torch.ones(model.num_params(), dtype=model.dtype)\n",
    ")"
   ]
  },
  {
   "cell_type": "code",
   "execution_count": 4,
   "metadata": {},
   "outputs": [],
   "source": [
    "## Setup optimizer\n",
    "\n",
    "optimizer = optim.SGD(model.parameters(), lr=0.75, momentum=0.9)"
   ]
  },
  {
   "cell_type": "code",
   "execution_count": 5,
   "metadata": {},
   "outputs": [],
   "source": [
    "## Define loss function\n",
    "\n",
    "loss_function = lambda x, y: -model.log_lik(x, y)\n",
    "\n",
    "# loss_function = lambda x, y: nn.BCELoss()(model(x), y)\n",
    "# criterion = nn.BCELoss()"
   ]
  },
  {
   "cell_type": "code",
   "execution_count": 6,
   "metadata": {},
   "outputs": [],
   "source": [
    "## Initialize model parameters\n",
    "\n",
    "theta0 = model.prior.sample()\n",
    "model.set_params(theta0)"
   ]
  },
  {
   "cell_type": "code",
   "execution_count": 7,
   "metadata": {},
   "outputs": [],
   "source": [
    "## Run optimizer\n",
    "\n",
    "n_iters = 10000\n",
    "\n",
    "loss_vals = torch.empty(n_iters, dtype=torch.float, requires_grad=True)\n",
    "\n",
    "for i in range(n_iters):\n",
    "    optimizer.zero_grad()\n",
    "\n",
    "    loss_val = loss_function(data, labels)\n",
    "    # loss_val = -model.log_lik(data, labels)\n",
    "    # logits = model(data)\n",
    "    # loss_val = criterion(logits, labels)\n",
    "    \n",
    "    loss_val.backward()\n",
    "    \n",
    "    optimizer.step()\n",
    "    \n",
    "    loss_vals[i] = loss_val.item()"
   ]
  },
  {
   "cell_type": "code",
   "execution_count": 8,
   "metadata": {},
   "outputs": [
    {
     "data": {
      "text/plain": [
       "[<matplotlib.lines.Line2D at 0x7ff8907430f0>]"
      ]
     },
     "execution_count": 8,
     "metadata": {},
     "output_type": "execute_result"
    },
    {
     "data": {
      "image/png": "[encoded data removed]",
      "text/plain": [
       "<Figure size 432x288 with 1 Axes>"
      ]
     },
     "metadata": {
      "needs_background": "light"
     },
     "output_type": "display_data"
    }
   ],
   "source": [
    "## Plot loss function\n",
    "\n",
    "plt.plot(loss_vals.cpu().detach().numpy())"
   ]
  },
  {
   "cell_type": "code",
   "execution_count": 9,
   "metadata": {},
   "outputs": [
    {
     "name": "stdout",
     "output_type": "stream",
     "text": [
      "tensor([[ -8.5171,  -8.5319],\n",
      "        [-11.4707, -11.6410]])\n",
      "tensor([12.7506,  5.0799])\n",
      "tensor([[ 21.2088, -21.4837]])\n",
      "tensor([-10.3737])\n"
     ]
    }
   ],
   "source": [
    "## Print model parameter values\n",
    "\n",
    "for p in model.parameters():\n",
    "    print(p.data)"
   ]
  },
  {
   "cell_type": "code",
   "execution_count": 10,
   "metadata": {},
   "outputs": [
    {
     "name": "stdout",
     "output_type": "stream",
     "text": [
      "tensor([0., 0.]) tensor([0.]) tensor([2.7102e-05], grad_fn=<SigmoidBackward>)\n",
      "tensor([0., 1.]) tensor([1.]) tensor([1.0000], grad_fn=<SigmoidBackward>)\n",
      "tensor([1., 0.]) tensor([1.]) tensor([1.0000], grad_fn=<SigmoidBackward>)\n",
      "tensor([1., 1.]) tensor([0.]) tensor([4.1520e-05], grad_fn=<SigmoidBackward>)\n"
     ]
    }
   ],
   "source": [
    "## Print sigmoid output for training data\n",
    "\n",
    "for d, l in zip(data, labels):\n",
    "    print(d, l, model(d))\n",
    "\n",
    "# model(data), data"
   ]
  }
 ],
 "metadata": {
  "kernelspec": {
   "display_name": "Python 3",
   "language": "python",
   "name": "python3"
  },
  "language_info": {
   "codemirror_mode": {
    "name": "ipython",
    "version": 3
   },
   "file_extension": ".py",
   "mimetype": "text/x-python",
   "name": "python",
   "nbconvert_exporter": "python",
   "pygments_lexer": "ipython3",
   "version": "3.6.5"
  }
 },
 "nbformat": 4,
 "nbformat_minor": 2
}
