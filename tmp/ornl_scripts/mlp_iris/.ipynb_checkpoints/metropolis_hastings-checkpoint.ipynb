{
 "cells": [
  {
   "cell_type": "markdown",
   "metadata": {},
   "source": [
    "# Metropolis-Hastings sampling of MLP weights using iris data\n",
    "\n",
    "Sampling the weights of a multi-layer perceptron (MLP) using the iris data and Metropolis-Hastings."
   ]
  },
  {
   "cell_type": "code",
   "execution_count": 1,
   "metadata": {},
   "outputs": [],
   "source": [
    "## Import packages\n",
    "\n",
    "import os\n",
    "import csv\n",
    "\n",
    "import numpy as np\n",
    "\n",
    "import torch\n",
    "\n",
    "from torch.utils.data import DataLoader\n",
    "from torch.distributions import Normal\n",
    "\n",
    "from eeyore.data import Iris\n",
    "from eeyore.models import mlp\n",
    "from eeyore.kernels import NormalTransitionKernel\n",
    "from eeyore.mcmc import MetropolisHastings\n",
    "\n",
    "from timeit import default_timer as timer\n",
    "from datetime import timedelta\n",
    "\n",
    "import matplotlib.pyplot as plt\n",
    "import seaborn as sns"
   ]
  },
  {
   "cell_type": "code",
   "execution_count": 2,
   "metadata": {},
   "outputs": [],
   "source": [
    "## Load iris data\n",
    "\n",
    "iris = Iris(dtype=torch.float64)\n",
    "dataloader = DataLoader(iris, batch_size=150)"
   ]
  },
  {
   "cell_type": "code",
   "execution_count": 3,
   "metadata": {},
   "outputs": [],
   "source": [
    "## Setup MLP model\n",
    "\n",
    "hparams = mlp.Hyperparameters(dims=[4, 2, 3])\n",
    "model = mlp.MLP(hparams=hparams, dtype=torch.float64)\n",
    "model.prior = Normal(\n",
    "    torch.zeros(model.num_params(), dtype=model.dtype),\n",
    "    np.sqrt(3)*torch.ones(model.num_params(), dtype=model.dtype)\n",
    ")"
   ]
  },
  {
   "cell_type": "code",
   "execution_count": 43,
   "metadata": {},
   "outputs": [],
   "source": [
    "## Setup Metropolis-Hastings sampler\n",
    "\n",
    "theta0 = model.prior.sample()\n",
    "num_params = model.num_params()\n",
    "kernel = NormalTransitionKernel(torch.zeros(num_params), np.sqrt(0.01)*torch.ones(num_params), dtype=torch.float64)\n",
    "sampler = MetropolisHastings(model, theta0, dataloader, kernel)"
   ]
  },
  {
   "cell_type": "code",
   "execution_count": 44,
   "metadata": {},
   "outputs": [
    {
     "name": "stdout",
     "output_type": "stream",
     "text": [
      "Time taken: 0:00:19.086862\n"
     ]
    }
   ],
   "source": [
    "## Run Metropolis-Hastings sampler\n",
    "\n",
    "start_time = timer()\n",
    "\n",
    "sampler.run(num_iterations=11000, num_burnin=1000)\n",
    "\n",
    "end_time = timer()\n",
    "print(\"Time taken: {}\".format(timedelta(seconds=end_time-start_time)))"
   ]
  },
  {
   "cell_type": "code",
   "execution_count": 45,
   "metadata": {},
   "outputs": [
    {
     "name": "stdout",
     "output_type": "stream",
     "text": [
      "Acceptance rate: 0.2363000065088272\n"
     ]
    }
   ],
   "source": [
    "## Compute acceptance rate\n",
    "\n",
    "print(\"Acceptance rate: {}\".format(sampler.chain.acceptance_rate()))"
   ]
  },
  {
   "cell_type": "code",
   "execution_count": null,
   "metadata": {},
   "outputs": [],
   "source": [
    "## Plot traces of simulated Markov chain\n",
    "\n",
    "for i in range(model.num_params()):\n",
    "    print(\"Generating trace plot of parameter {}\".format(i+1))\n",
    "    \n",
    "    chain = sampler.chain.get_theta(i)\n",
    "    \n",
    "    plt.figure()\n",
    "    sns.lineplot(range(len(chain)), chain)\n",
    "    plt.xlabel('Iteration')\n",
    "    plt.ylabel('Parameter value')\n",
    "    plt.title(r'Traceplot of parameter $\\theta_{}$'.format(i+1))"
   ]
  },
  {
   "cell_type": "code",
   "execution_count": null,
   "metadata": {},
   "outputs": [],
   "source": [
    "## Plot running means of simulated Markov chain\n",
    "\n",
    "for i in range(model.num_params()):\n",
    "    print(\"Generating running mean plot of parameter {}\".format(i+1))\n",
    "        \n",
    "    chain = sampler.chain.get_theta(i)\n",
    "    chain_mean = torch.empty(len(chain))\n",
    "    chain_mean[0] = chain[0]\n",
    "    for j in range(1, len(chain)):\n",
    "        chain_mean[j] = (chain[j]+j*chain_mean[j-1])/(j+1)\n",
    "        \n",
    "    plt.figure()\n",
    "    sns.lineplot(range(len(chain)), chain_mean)\n",
    "    plt.xlabel('Iteration')\n",
    "    plt.ylabel('Parameter value')\n",
    "    plt.title(r'Running mean of parameter $\\theta_{}$'.format(i+1))"
   ]
  },
  {
   "cell_type": "code",
   "execution_count": null,
   "metadata": {},
   "outputs": [],
   "source": [
    "## Plot histograms of simulated Markov chain\n",
    "\n",
    "for i in range(model.num_params()):\n",
    "    print(\"Generating histogram of parameter {}\".format(i+1))\n",
    "    \n",
    "    plt.figure()\n",
    "    sns.distplot(sampler.chain.get_theta(i), bins=20, norm_hist=True)\n",
    "    plt.xlabel('Value range')\n",
    "    plt.ylabel('Relative frequency')\n",
    "    plt.title(r'Histogram of parameter $\\theta_{}$'.format(i+1))"
   ]
  },
  {
   "cell_type": "code",
   "execution_count": null,
   "metadata": {},
   "outputs": [],
   "source": [
    "## Save simulated Markov chain in file\n",
    "\n",
    "for i in range(model.num_params()):\n",
    "    print(\"Saving chain of parameter {}\".format(i+1))\n",
    "\n",
    "    chain = sampler.chain.get_theta(i)\n",
    "    with open(os.path.join(\"output\", str(\"mh_chain{:02d}.txt\".format(i+1))), 'w') as file:\n",
    "        writer = csv.writer(file)\n",
    "        for state in chain:\n",
    "            writer.writerow([state])"
   ]
  },
  {
   "cell_type": "code",
   "execution_count": null,
   "metadata": {},
   "outputs": [],
   "source": [
    "## Save acceptance diagnostic for simulated Markov chain\n",
    "\n",
    "with open(os.path.join(\"output\", \"mh_accepted.txt\"), 'w') as file:\n",
    "    writer = csv.writer(file)\n",
    "    for a in sampler.chain.vals['accepted']:\n",
    "        writer.writerow([a])"
   ]
  },
  {
   "cell_type": "code",
   "execution_count": null,
   "metadata": {},
   "outputs": [],
   "source": [
    "## Save runtime of MC simulation\n",
    "\n",
    "with open(os.path.join(\"output\", \"mh_runtime.txt\"), 'w') as file:\n",
    "    file.write(str(\"Runtime: {}\".format(timedelta(seconds=end_time-start_time))))\n",
    "    file.write(\"\\n\")"
   ]
  }
 ],
 "metadata": {
  "kernelspec": {
   "display_name": "Python 3",
   "language": "python",
   "name": "python3"
  },
  "language_info": {
   "codemirror_mode": {
    "name": "ipython",
    "version": 3
   },
   "file_extension": ".py",
   "mimetype": "text/x-python",
   "name": "python",
   "nbconvert_exporter": "python",
   "pygments_lexer": "ipython3",
   "version": "3.6.5"
  }
 },
 "nbformat": 4,
 "nbformat_minor": 2
}
